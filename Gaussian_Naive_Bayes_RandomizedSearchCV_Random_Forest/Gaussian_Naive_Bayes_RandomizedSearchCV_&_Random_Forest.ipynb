{
  "cells": [
    {
      "cell_type": "markdown",
      "source": [
        "In this study, I present a comprehensive pipeline for training a machine learning model specifically designed for a long/short trading strategy. Central to this approach is the development of a customized loss function aimed at optimizing trading outcomes.\n",
        "\n",
        "We begin by categorizing returns into 10 deciles based on individual stock performance. While this method, influenced by the weak-form Efficient Market Hypothesis (EMH), may not yield significant results in isolation, it serves as a foundational step.\n",
        "\n",
        "In practical applications, cross-sectional return deciles or rankings are often employed to extract more nuanced information for trading. Trading on a diversified portfolio of stocks is crucial to leverage the expectations derived from probabilities, rather than relying solely on predictions for individual stocks. However, this study emphasizes the pipeline for implementing machine learning in finance, so we will not delve into portfolio diversification here.\n",
        "\n",
        "Further research and detailed strategy backtesting will be available in the \"Strategy Backtesting\" repository on my GitHub.\n",
        "\n",
        "In this study, I utilize technical indicators to validate the model's ability to uncover valuable insights. For real-world applications, it is imperative to incorporate a broader range of data, including macroeconomic indicators, microeconomic factors, company characteristics, text sentiment analysis, and behavioral data. This comprehensive approach ensures a robust and well-informed trading strategy.\n",
        "\n",
        "This study underscores the potential of machine learning in quantitative finance, demonstrating how these advanced techniques can revolutionize trading strategies."
      ],
      "metadata": {
        "id": "VGm2u_tt-oEY"
      }
    },
    {
      "cell_type": "markdown",
      "metadata": {
        "id": "13ZYI334KrJ5"
      },
      "source": [
        "# Outline:\n",
        "- Load data from Yahoo Finance & Get some technical indicators\n",
        "- Custom Loss Function\n",
        "- Implement Gaussian Naive Bayes\n",
        "- RandomizedSearchCV on Random Forest\n"
      ]
    },
    {
      "cell_type": "code",
      "source": [
        "!pip install yfinance\n",
        "!pip install pandas_ta"
      ],
      "metadata": {
        "id": "z6b8s2L27-BH",
        "colab": {
          "base_uri": "https://localhost:8080/"
        },
        "outputId": "5801d531-cc8f-4a00-f771-ba107ef46fea"
      },
      "execution_count": null,
      "outputs": [
        {
          "output_type": "stream",
          "name": "stdout",
          "text": [
            "Requirement already satisfied: yfinance in /usr/local/lib/python3.10/dist-packages (0.2.40)\n",
            "Requirement already satisfied: pandas>=1.3.0 in /usr/local/lib/python3.10/dist-packages (from yfinance) (2.0.3)\n",
            "Requirement already satisfied: numpy>=1.16.5 in /usr/local/lib/python3.10/dist-packages (from yfinance) (1.25.2)\n",
            "Requirement already satisfied: requests>=2.31 in /usr/local/lib/python3.10/dist-packages (from yfinance) (2.31.0)\n",
            "Requirement already satisfied: multitasking>=0.0.7 in /usr/local/lib/python3.10/dist-packages (from yfinance) (0.0.11)\n",
            "Requirement already satisfied: lxml>=4.9.1 in /usr/local/lib/python3.10/dist-packages (from yfinance) (4.9.4)\n",
            "Requirement already satisfied: platformdirs>=2.0.0 in /usr/local/lib/python3.10/dist-packages (from yfinance) (4.2.2)\n",
            "Requirement already satisfied: pytz>=2022.5 in /usr/local/lib/python3.10/dist-packages (from yfinance) (2023.4)\n",
            "Requirement already satisfied: frozendict>=2.3.4 in /usr/local/lib/python3.10/dist-packages (from yfinance) (2.4.4)\n",
            "Requirement already satisfied: peewee>=3.16.2 in /usr/local/lib/python3.10/dist-packages (from yfinance) (3.17.5)\n",
            "Requirement already satisfied: beautifulsoup4>=4.11.1 in /usr/local/lib/python3.10/dist-packages (from yfinance) (4.12.3)\n",
            "Requirement already satisfied: html5lib>=1.1 in /usr/local/lib/python3.10/dist-packages (from yfinance) (1.1)\n",
            "Requirement already satisfied: soupsieve>1.2 in /usr/local/lib/python3.10/dist-packages (from beautifulsoup4>=4.11.1->yfinance) (2.5)\n",
            "Requirement already satisfied: six>=1.9 in /usr/local/lib/python3.10/dist-packages (from html5lib>=1.1->yfinance) (1.16.0)\n",
            "Requirement already satisfied: webencodings in /usr/local/lib/python3.10/dist-packages (from html5lib>=1.1->yfinance) (0.5.1)\n",
            "Requirement already satisfied: python-dateutil>=2.8.2 in /usr/local/lib/python3.10/dist-packages (from pandas>=1.3.0->yfinance) (2.8.2)\n",
            "Requirement already satisfied: tzdata>=2022.1 in /usr/local/lib/python3.10/dist-packages (from pandas>=1.3.0->yfinance) (2024.1)\n",
            "Requirement already satisfied: charset-normalizer<4,>=2 in /usr/local/lib/python3.10/dist-packages (from requests>=2.31->yfinance) (3.3.2)\n",
            "Requirement already satisfied: idna<4,>=2.5 in /usr/local/lib/python3.10/dist-packages (from requests>=2.31->yfinance) (3.7)\n",
            "Requirement already satisfied: urllib3<3,>=1.21.1 in /usr/local/lib/python3.10/dist-packages (from requests>=2.31->yfinance) (2.0.7)\n",
            "Requirement already satisfied: certifi>=2017.4.17 in /usr/local/lib/python3.10/dist-packages (from requests>=2.31->yfinance) (2024.6.2)\n",
            "Requirement already satisfied: pandas_ta in /usr/local/lib/python3.10/dist-packages (0.3.14b0)\n",
            "Requirement already satisfied: pandas in /usr/local/lib/python3.10/dist-packages (from pandas_ta) (2.0.3)\n",
            "Requirement already satisfied: python-dateutil>=2.8.2 in /usr/local/lib/python3.10/dist-packages (from pandas->pandas_ta) (2.8.2)\n",
            "Requirement already satisfied: pytz>=2020.1 in /usr/local/lib/python3.10/dist-packages (from pandas->pandas_ta) (2023.4)\n",
            "Requirement already satisfied: tzdata>=2022.1 in /usr/local/lib/python3.10/dist-packages (from pandas->pandas_ta) (2024.1)\n",
            "Requirement already satisfied: numpy>=1.21.0 in /usr/local/lib/python3.10/dist-packages (from pandas->pandas_ta) (1.25.2)\n",
            "Requirement already satisfied: six>=1.5 in /usr/local/lib/python3.10/dist-packages (from python-dateutil>=2.8.2->pandas->pandas_ta) (1.16.0)\n"
          ]
        }
      ]
    },
    {
      "cell_type": "code",
      "source": [
        "import yfinance as yf\n",
        "import pandas_ta as ta\n",
        "import pandas as pd\n",
        "import numpy as np\n",
        "import matplotlib.pyplot as plt"
      ],
      "metadata": {
        "id": "Y-OKncN-8BMd"
      },
      "execution_count": null,
      "outputs": []
    },
    {
      "cell_type": "markdown",
      "source": [
        "###Load data from Yahoo Finance & Get some technical indicators"
      ],
      "metadata": {
        "id": "tXgUXbyaukSa"
      }
    },
    {
      "cell_type": "code",
      "source": [
        "df= pd.DataFrame()\n",
        "df=df.ta.ticker('pfe')"
      ],
      "metadata": {
        "id": "WexRvpJZ8CaU",
        "colab": {
          "base_uri": "https://localhost:8080/"
        },
        "outputId": "ae4aebc2-b291-4e87-bdf1-2d747830e649"
      },
      "execution_count": null,
      "outputs": [
        {
          "output_type": "stream",
          "name": "stdout",
          "text": [
            "yfinance: pandas_datareader support is deprecated & semi-broken so will be removed in a future verison. Just use yfinance.\n"
          ]
        }
      ]
    },
    {
      "cell_type": "code",
      "source": [
        "# Exponential Moving Averages\n",
        "df['ema10']=ta.ema(df['Close'],length=10)\n",
        "df['ema30']=ta.ema(df['Close'],length=30)\n",
        "\n",
        "# Average True Range- Measures Volatility Caused by Price Gaps or Limit Moves\n",
        "# true range = max[(high - low), abs(high - previous close), abs (low - previous close)]\n",
        "df['atr'] = ta.atr(df['High'],df['Low'],df['Close']) # # need to be normalized by price\n",
        "\n",
        "# Average Directional Movement Index - to  quantify trend strength by measuring\n",
        "# the amount of movement in a single direction\n",
        "\n",
        "adx= ta.adx(df['High'],df['Low'],df['Close'])\n",
        "df['adx'] = adx['ADX_14']\n",
        "\n",
        "######\n",
        "\n",
        "# Moving Average Convergence/ Divergence\n",
        "#   Used to identify aspects of a security's overall trend\n",
        "#   MACD Line: (12-day EMA - 26-day EMA)\n",
        "#   Signal Line: 9-day EMA of MACD Line\n",
        "#   MACD Histogram: MACD Line - Signal Line\n",
        "\n",
        "macd = ta.macd(df['Close'], fast=12, slow=26, signal=9)\n",
        "df['macd']=macd['MACD_12_26_9']/df['Close'] #normalize by current price to make the indicator stationary\n",
        "df['macds']=macd['MACDs_12_26_9']/df['Close'] #normalize by current price to make the indicator stationary\n",
        "\n",
        "\n",
        "# Relative Strength Index\n",
        "#   momentum oscillator used to measure the\n",
        "#   velocity as well as the magnitude of directional price movements\n",
        "\n",
        "df['rsi'] =ta.rsi(df['Close'],length=14)\n",
        "\n",
        "#df['Cgtema10'] = np.where(df['Close'] > df['ema10'], 1, -1) # generate categorical variable to indentify short term trend\n",
        "#df['ema10gtema30'] = np.where(df['ema10'] > df['ema30'], 1, -1) # generate categorical variable to indentify mid-short term trend\n",
        "#df['macdsgtmacd'] = np.where(df['macd'] > df['macds'] , 1, -1) # generate categorical variable to indentify trend of trend\n",
        "df['Return_1'] = df['Close'].pct_change(1).shift(-1)\n"
      ],
      "metadata": {
        "id": "LNFcCur58EZp"
      },
      "execution_count": null,
      "outputs": []
    },
    {
      "cell_type": "code",
      "source": [
        "# Calculate the decile thresholds using the specified date range\n",
        "quantiles = 10  # or any number like 15 for 15 quantiles\n",
        "thresholds = pd.qcut(df.loc['1981-01-01':'2020-12-31']['Return_1'], quantiles, retbins=True)[1]\n",
        "\n",
        "# Classify each return based on the decile thresholds\n",
        "df['target'] = pd.cut(df['Return_1'], bins=thresholds, labels=False, include_lowest=True)\n",
        "df.dropna(inplace=True)\n",
        "df['target'] = df['target'].astype(int)\n",
        "\n",
        "\n",
        "# Features\n",
        "predictors_list = ['atr', 'adx','rsi', 'macd', 'macds']\n",
        "X = df[predictors_list]\n",
        "\n",
        "# Target Variable\n",
        "y = df.target"
      ],
      "metadata": {
        "id": "-zBz0-988LIC"
      },
      "execution_count": null,
      "outputs": []
    },
    {
      "cell_type": "code",
      "source": [
        "X_train=X.loc['1981-01-01':'2020-12-31']\n",
        "X_valid=X.loc['2021-01-01':'2022-12-31']\n",
        "X_test=X.loc['2023-01-01':]\n",
        "y_train=y.loc['1981-01-01':'2020-12-31']\n",
        "y_valid=y.loc['2021-01-01':'2022-12-31']\n",
        "y_test=y.loc['2023-01-01':]\n",
        "\n",
        "X_train_valid = pd.concat((X_train, X_valid), axis = 0)\n",
        "y_train_valid = pd.concat((y_train, y_valid), axis = 0)"
      ],
      "metadata": {
        "id": "Hw6jenZA8RZa"
      },
      "execution_count": null,
      "outputs": []
    },
    {
      "cell_type": "code",
      "execution_count": null,
      "metadata": {
        "colab": {
          "base_uri": "https://localhost:8080/",
          "height": 254
        },
        "id": "nAn4uF3qKrJ_",
        "outputId": "28b1fcb5-c95c-45af-aed9-c8dd575595a6"
      },
      "outputs": [
        {
          "output_type": "stream",
          "name": "stdout",
          "text": [
            "(10087, 5)\n"
          ]
        },
        {
          "output_type": "execute_result",
          "data": {
            "text/plain": [
              "                                atr        adx        rsi      macd     macds\n",
              "Date                                                                         \n",
              "1981-01-02 00:00:00-05:00  0.006425  25.968779  72.849067  0.032549  0.021637\n",
              "1981-01-05 00:00:00-05:00  0.006332  27.632991  69.144350  0.033372  0.024148\n",
              "1981-01-06 00:00:00-05:00  0.006934  29.528765  72.190342  0.034257  0.025811\n",
              "1981-01-07 00:00:00-05:00  0.006942  31.289127  68.546804  0.034627  0.027768\n",
              "1981-01-08 00:00:00-05:00  0.006950  33.097560  62.593050  0.033510  0.029287"
            ],
            "text/html": [
              "\n",
              "  <div id=\"df-64a73e76-1ced-470a-bdf4-1f8a25c0e0d2\" class=\"colab-df-container\">\n",
              "    <div>\n",
              "<style scoped>\n",
              "    .dataframe tbody tr th:only-of-type {\n",
              "        vertical-align: middle;\n",
              "    }\n",
              "\n",
              "    .dataframe tbody tr th {\n",
              "        vertical-align: top;\n",
              "    }\n",
              "\n",
              "    .dataframe thead th {\n",
              "        text-align: right;\n",
              "    }\n",
              "</style>\n",
              "<table border=\"1\" class=\"dataframe\">\n",
              "  <thead>\n",
              "    <tr style=\"text-align: right;\">\n",
              "      <th></th>\n",
              "      <th>atr</th>\n",
              "      <th>adx</th>\n",
              "      <th>rsi</th>\n",
              "      <th>macd</th>\n",
              "      <th>macds</th>\n",
              "    </tr>\n",
              "    <tr>\n",
              "      <th>Date</th>\n",
              "      <th></th>\n",
              "      <th></th>\n",
              "      <th></th>\n",
              "      <th></th>\n",
              "      <th></th>\n",
              "    </tr>\n",
              "  </thead>\n",
              "  <tbody>\n",
              "    <tr>\n",
              "      <th>1981-01-02 00:00:00-05:00</th>\n",
              "      <td>0.006425</td>\n",
              "      <td>25.968779</td>\n",
              "      <td>72.849067</td>\n",
              "      <td>0.032549</td>\n",
              "      <td>0.021637</td>\n",
              "    </tr>\n",
              "    <tr>\n",
              "      <th>1981-01-05 00:00:00-05:00</th>\n",
              "      <td>0.006332</td>\n",
              "      <td>27.632991</td>\n",
              "      <td>69.144350</td>\n",
              "      <td>0.033372</td>\n",
              "      <td>0.024148</td>\n",
              "    </tr>\n",
              "    <tr>\n",
              "      <th>1981-01-06 00:00:00-05:00</th>\n",
              "      <td>0.006934</td>\n",
              "      <td>29.528765</td>\n",
              "      <td>72.190342</td>\n",
              "      <td>0.034257</td>\n",
              "      <td>0.025811</td>\n",
              "    </tr>\n",
              "    <tr>\n",
              "      <th>1981-01-07 00:00:00-05:00</th>\n",
              "      <td>0.006942</td>\n",
              "      <td>31.289127</td>\n",
              "      <td>68.546804</td>\n",
              "      <td>0.034627</td>\n",
              "      <td>0.027768</td>\n",
              "    </tr>\n",
              "    <tr>\n",
              "      <th>1981-01-08 00:00:00-05:00</th>\n",
              "      <td>0.006950</td>\n",
              "      <td>33.097560</td>\n",
              "      <td>62.593050</td>\n",
              "      <td>0.033510</td>\n",
              "      <td>0.029287</td>\n",
              "    </tr>\n",
              "  </tbody>\n",
              "</table>\n",
              "</div>\n",
              "    <div class=\"colab-df-buttons\">\n",
              "\n",
              "  <div class=\"colab-df-container\">\n",
              "    <button class=\"colab-df-convert\" onclick=\"convertToInteractive('df-64a73e76-1ced-470a-bdf4-1f8a25c0e0d2')\"\n",
              "            title=\"Convert this dataframe to an interactive table.\"\n",
              "            style=\"display:none;\">\n",
              "\n",
              "  <svg xmlns=\"http://www.w3.org/2000/svg\" height=\"24px\" viewBox=\"0 -960 960 960\">\n",
              "    <path d=\"M120-120v-720h720v720H120Zm60-500h600v-160H180v160Zm220 220h160v-160H400v160Zm0 220h160v-160H400v160ZM180-400h160v-160H180v160Zm440 0h160v-160H620v160ZM180-180h160v-160H180v160Zm440 0h160v-160H620v160Z\"/>\n",
              "  </svg>\n",
              "    </button>\n",
              "\n",
              "  <style>\n",
              "    .colab-df-container {\n",
              "      display:flex;\n",
              "      gap: 12px;\n",
              "    }\n",
              "\n",
              "    .colab-df-convert {\n",
              "      background-color: #E8F0FE;\n",
              "      border: none;\n",
              "      border-radius: 50%;\n",
              "      cursor: pointer;\n",
              "      display: none;\n",
              "      fill: #1967D2;\n",
              "      height: 32px;\n",
              "      padding: 0 0 0 0;\n",
              "      width: 32px;\n",
              "    }\n",
              "\n",
              "    .colab-df-convert:hover {\n",
              "      background-color: #E2EBFA;\n",
              "      box-shadow: 0px 1px 2px rgba(60, 64, 67, 0.3), 0px 1px 3px 1px rgba(60, 64, 67, 0.15);\n",
              "      fill: #174EA6;\n",
              "    }\n",
              "\n",
              "    .colab-df-buttons div {\n",
              "      margin-bottom: 4px;\n",
              "    }\n",
              "\n",
              "    [theme=dark] .colab-df-convert {\n",
              "      background-color: #3B4455;\n",
              "      fill: #D2E3FC;\n",
              "    }\n",
              "\n",
              "    [theme=dark] .colab-df-convert:hover {\n",
              "      background-color: #434B5C;\n",
              "      box-shadow: 0px 1px 3px 1px rgba(0, 0, 0, 0.15);\n",
              "      filter: drop-shadow(0px 1px 2px rgba(0, 0, 0, 0.3));\n",
              "      fill: #FFFFFF;\n",
              "    }\n",
              "  </style>\n",
              "\n",
              "    <script>\n",
              "      const buttonEl =\n",
              "        document.querySelector('#df-64a73e76-1ced-470a-bdf4-1f8a25c0e0d2 button.colab-df-convert');\n",
              "      buttonEl.style.display =\n",
              "        google.colab.kernel.accessAllowed ? 'block' : 'none';\n",
              "\n",
              "      async function convertToInteractive(key) {\n",
              "        const element = document.querySelector('#df-64a73e76-1ced-470a-bdf4-1f8a25c0e0d2');\n",
              "        const dataTable =\n",
              "          await google.colab.kernel.invokeFunction('convertToInteractive',\n",
              "                                                    [key], {});\n",
              "        if (!dataTable) return;\n",
              "\n",
              "        const docLinkHtml = 'Like what you see? Visit the ' +\n",
              "          '<a target=\"_blank\" href=https://colab.research.google.com/notebooks/data_table.ipynb>data table notebook</a>'\n",
              "          + ' to learn more about interactive tables.';\n",
              "        element.innerHTML = '';\n",
              "        dataTable['output_type'] = 'display_data';\n",
              "        await google.colab.output.renderOutput(dataTable, element);\n",
              "        const docLink = document.createElement('div');\n",
              "        docLink.innerHTML = docLinkHtml;\n",
              "        element.appendChild(docLink);\n",
              "      }\n",
              "    </script>\n",
              "  </div>\n",
              "\n",
              "\n",
              "<div id=\"df-7e60590e-8bb6-40d6-b958-d1c3e230bd75\">\n",
              "  <button class=\"colab-df-quickchart\" onclick=\"quickchart('df-7e60590e-8bb6-40d6-b958-d1c3e230bd75')\"\n",
              "            title=\"Suggest charts\"\n",
              "            style=\"display:none;\">\n",
              "\n",
              "<svg xmlns=\"http://www.w3.org/2000/svg\" height=\"24px\"viewBox=\"0 0 24 24\"\n",
              "     width=\"24px\">\n",
              "    <g>\n",
              "        <path d=\"M19 3H5c-1.1 0-2 .9-2 2v14c0 1.1.9 2 2 2h14c1.1 0 2-.9 2-2V5c0-1.1-.9-2-2-2zM9 17H7v-7h2v7zm4 0h-2V7h2v10zm4 0h-2v-4h2v4z\"/>\n",
              "    </g>\n",
              "</svg>\n",
              "  </button>\n",
              "\n",
              "<style>\n",
              "  .colab-df-quickchart {\n",
              "      --bg-color: #E8F0FE;\n",
              "      --fill-color: #1967D2;\n",
              "      --hover-bg-color: #E2EBFA;\n",
              "      --hover-fill-color: #174EA6;\n",
              "      --disabled-fill-color: #AAA;\n",
              "      --disabled-bg-color: #DDD;\n",
              "  }\n",
              "\n",
              "  [theme=dark] .colab-df-quickchart {\n",
              "      --bg-color: #3B4455;\n",
              "      --fill-color: #D2E3FC;\n",
              "      --hover-bg-color: #434B5C;\n",
              "      --hover-fill-color: #FFFFFF;\n",
              "      --disabled-bg-color: #3B4455;\n",
              "      --disabled-fill-color: #666;\n",
              "  }\n",
              "\n",
              "  .colab-df-quickchart {\n",
              "    background-color: var(--bg-color);\n",
              "    border: none;\n",
              "    border-radius: 50%;\n",
              "    cursor: pointer;\n",
              "    display: none;\n",
              "    fill: var(--fill-color);\n",
              "    height: 32px;\n",
              "    padding: 0;\n",
              "    width: 32px;\n",
              "  }\n",
              "\n",
              "  .colab-df-quickchart:hover {\n",
              "    background-color: var(--hover-bg-color);\n",
              "    box-shadow: 0 1px 2px rgba(60, 64, 67, 0.3), 0 1px 3px 1px rgba(60, 64, 67, 0.15);\n",
              "    fill: var(--button-hover-fill-color);\n",
              "  }\n",
              "\n",
              "  .colab-df-quickchart-complete:disabled,\n",
              "  .colab-df-quickchart-complete:disabled:hover {\n",
              "    background-color: var(--disabled-bg-color);\n",
              "    fill: var(--disabled-fill-color);\n",
              "    box-shadow: none;\n",
              "  }\n",
              "\n",
              "  .colab-df-spinner {\n",
              "    border: 2px solid var(--fill-color);\n",
              "    border-color: transparent;\n",
              "    border-bottom-color: var(--fill-color);\n",
              "    animation:\n",
              "      spin 1s steps(1) infinite;\n",
              "  }\n",
              "\n",
              "  @keyframes spin {\n",
              "    0% {\n",
              "      border-color: transparent;\n",
              "      border-bottom-color: var(--fill-color);\n",
              "      border-left-color: var(--fill-color);\n",
              "    }\n",
              "    20% {\n",
              "      border-color: transparent;\n",
              "      border-left-color: var(--fill-color);\n",
              "      border-top-color: var(--fill-color);\n",
              "    }\n",
              "    30% {\n",
              "      border-color: transparent;\n",
              "      border-left-color: var(--fill-color);\n",
              "      border-top-color: var(--fill-color);\n",
              "      border-right-color: var(--fill-color);\n",
              "    }\n",
              "    40% {\n",
              "      border-color: transparent;\n",
              "      border-right-color: var(--fill-color);\n",
              "      border-top-color: var(--fill-color);\n",
              "    }\n",
              "    60% {\n",
              "      border-color: transparent;\n",
              "      border-right-color: var(--fill-color);\n",
              "    }\n",
              "    80% {\n",
              "      border-color: transparent;\n",
              "      border-right-color: var(--fill-color);\n",
              "      border-bottom-color: var(--fill-color);\n",
              "    }\n",
              "    90% {\n",
              "      border-color: transparent;\n",
              "      border-bottom-color: var(--fill-color);\n",
              "    }\n",
              "  }\n",
              "</style>\n",
              "\n",
              "  <script>\n",
              "    async function quickchart(key) {\n",
              "      const quickchartButtonEl =\n",
              "        document.querySelector('#' + key + ' button');\n",
              "      quickchartButtonEl.disabled = true;  // To prevent multiple clicks.\n",
              "      quickchartButtonEl.classList.add('colab-df-spinner');\n",
              "      try {\n",
              "        const charts = await google.colab.kernel.invokeFunction(\n",
              "            'suggestCharts', [key], {});\n",
              "      } catch (error) {\n",
              "        console.error('Error during call to suggestCharts:', error);\n",
              "      }\n",
              "      quickchartButtonEl.classList.remove('colab-df-spinner');\n",
              "      quickchartButtonEl.classList.add('colab-df-quickchart-complete');\n",
              "    }\n",
              "    (() => {\n",
              "      let quickchartButtonEl =\n",
              "        document.querySelector('#df-7e60590e-8bb6-40d6-b958-d1c3e230bd75 button');\n",
              "      quickchartButtonEl.style.display =\n",
              "        google.colab.kernel.accessAllowed ? 'block' : 'none';\n",
              "    })();\n",
              "  </script>\n",
              "</div>\n",
              "\n",
              "    </div>\n",
              "  </div>\n"
            ],
            "application/vnd.google.colaboratory.intrinsic+json": {
              "type": "dataframe",
              "variable_name": "X_train",
              "summary": "{\n  \"name\": \"X_train\",\n  \"rows\": 10087,\n  \"fields\": [\n    {\n      \"column\": \"Date\",\n      \"properties\": {\n        \"dtype\": \"date\",\n        \"min\": \"1981-01-02 00:00:00-05:00\",\n        \"max\": \"2020-12-31 00:00:00-05:00\",\n        \"num_unique_values\": 10087,\n        \"samples\": [\n          \"2007-04-12 00:00:00-04:00\",\n          \"2009-09-29 00:00:00-04:00\",\n          \"2009-09-09 00:00:00-04:00\"\n        ],\n        \"semantic_type\": \"\",\n        \"description\": \"\"\n      }\n    },\n    {\n      \"column\": \"atr\",\n      \"properties\": {\n        \"dtype\": \"number\",\n        \"std\": 0.2137650875078419,\n        \"min\": 0.004261361344673177,\n        \"max\": 1.4027864170272837,\n        \"num_unique_values\": 10087,\n        \"samples\": [\n          0.1707238229367612,\n          0.18081891045451393,\n          0.1814543114444987\n        ],\n        \"semantic_type\": \"\",\n        \"description\": \"\"\n      }\n    },\n    {\n      \"column\": \"adx\",\n      \"properties\": {\n        \"dtype\": \"number\",\n        \"std\": 9.020424872241065,\n        \"min\": 7.098169582742756,\n        \"max\": 65.77182770887607,\n        \"num_unique_values\": 10087,\n        \"samples\": [\n          16.043362324961084,\n          24.071876550411726,\n          25.232963634174155\n        ],\n        \"semantic_type\": \"\",\n        \"description\": \"\"\n      }\n    },\n    {\n      \"column\": \"rsi\",\n      \"properties\": {\n        \"dtype\": \"number\",\n        \"std\": 11.435839471599003,\n        \"min\": 8.863798143700716,\n        \"max\": 92.19560786965665,\n        \"num_unique_values\": 9892,\n        \"samples\": [\n          43.914895802585185,\n          45.52148973461649,\n          69.4913810560045\n        ],\n        \"semantic_type\": \"\",\n        \"description\": \"\"\n      }\n    },\n    {\n      \"column\": \"macd\",\n      \"properties\": {\n        \"dtype\": \"number\",\n        \"std\": 0.016764034156005518,\n        \"min\": -0.11590676371009112,\n        \"max\": 0.05554999578037935,\n        \"num_unique_values\": 10087,\n        \"samples\": [\n          0.005794299953255036,\n          0.007197597362784321,\n          0.009409823542165234\n        ],\n        \"semantic_type\": \"\",\n        \"description\": \"\"\n      }\n    },\n    {\n      \"column\": \"macds\",\n      \"properties\": {\n        \"dtype\": \"number\",\n        \"std\": 0.01563809407166622,\n        \"min\": -0.0869115584015288,\n        \"max\": 0.05004255733446567,\n        \"num_unique_values\": 10087,\n        \"samples\": [\n          0.0016065167163928505,\n          0.007075562219329486,\n          0.014930038435454153\n        ],\n        \"semantic_type\": \"\",\n        \"description\": \"\"\n      }\n    }\n  ]\n}"
            }
          },
          "metadata": {},
          "execution_count": 7
        }
      ],
      "source": [
        "print (X_train.shape)\n",
        "X_train.head()"
      ]
    },
    {
      "cell_type": "markdown",
      "source": [
        "###Define custom loss function:\n",
        "\n",
        "\n",
        "In this application, I focus on \"probability\" rather than prediction. When implementing a long-short strategy, the goal is to long a selection of stocks with a high probability of going up and short a selection of stocks with a high probability of going down.\n",
        "\n",
        "In other words, we do not bet on individual stocks. Instead, we rely on the law of expectation. We aim to profit based on \"expectation\" by exploiting the predicted probabilities. If, on average, the stocks we predict have a higher probability of going up compared to others, and similarly for going down, we can generate profit by creating cross-sectional signals and utilizing a long-short strategy.\n",
        "\n",
        "In this document, I illustrate how to utilize a machine learning model to generate insights or predicted probabilities. For demonstration purposes, I apply the methodology to only one stock.\n",
        "\n",
        "Misclassifications should have varying penalties. A prediction of \"up\" that results in a \"down\" movement should incur a higher penalty. Similarly, a prediction of \"down\" that results in an \"up\" movement should also incur a higher penalty.\n",
        "\n",
        "Custom Loss Function: This function captures the ordinal relationship by computing the custom loss using predicted probabilities and a penalty matrix. For each instance, it retrieves the true class and the predicted probabilities, then computes the penalty by performing a dot product between the predicted probabilities and the penalties associated with the true class. The total loss is accumulated across all instances.\n"
      ],
      "metadata": {
        "id": "DYTPfVkN4SBX"
      }
    },
    {
      "cell_type": "code",
      "source": [
        "def create_penalty_matrix(num_classes):\n",
        "    penalty_matrix = np.zeros((num_classes, num_classes))\n",
        "    for i in range(num_classes):\n",
        "        for j in range(num_classes):\n",
        "            penalty_matrix[i, j] = abs(i - j)\n",
        "    return penalty_matrix\n",
        "\n",
        "def custom_loss(y_true, y_pred_proba, num_classes):\n",
        "    # Define custom penalty matrix\n",
        "    penalty_matrix = create_penalty_matrix(num_classes)\n",
        "    \"\"\" # for example: if there are 3 classes, the penalty matrix would be:\n",
        "    np.array([\n",
        "        [0, 1, 2],  # Penalty for predicting 'up' as 'same' or 'down'\n",
        "        [1, 0, 1],  # Penalty for predicting 'same' as 'up' or 'down'\n",
        "        [2, 1, 0]   # Penalty for predicting 'down' as 'same' or 'up'\n",
        "    ])\n",
        "    \"\"\"\n",
        "    total_loss = 0\n",
        "    for i in range(len(y_true)):\n",
        "        true_class = y_true[i]\n",
        "        predicted_probabilities = y_pred_proba[i]\n",
        "        penalties = penalty_matrix[true_class]\n",
        "        loss = np.dot(predicted_probabilities, penalties)\n",
        "        total_loss += loss\n",
        "    return total_loss/ len(y_true) # average loss for each prediction"
      ],
      "metadata": {
        "id": "y4aaihUl37KU"
      },
      "execution_count": null,
      "outputs": []
    },
    {
      "cell_type": "markdown",
      "source": [
        "### Implement Gaussian Naive Bayes\n"
      ],
      "metadata": {
        "id": "Q9pnw2m2tmmw"
      }
    },
    {
      "cell_type": "code",
      "source": [
        "from sklearn.naive_bayes import GaussianNB\n",
        "from sklearn.metrics import precision_score, confusion_matrix"
      ],
      "metadata": {
        "id": "ZKo5SRXZ16LB"
      },
      "execution_count": null,
      "outputs": []
    },
    {
      "cell_type": "markdown",
      "metadata": {
        "id": "FGXjo3THKrKB"
      },
      "source": [
        "NB doc:\n",
        "https://scikit-learn.org/stable/modules/naive_bayes.html\n",
        "\n",
        "GaussianNB doc:\n",
        "https://scikit-learn.org/stable/modules/generated/sklearn.naive_bayes.GaussianNB.html#sklearn.naive_bayes.GaussianNB\n",
        "\n",
        "**priors:** array-like of shape (n_classes,) \\\n",
        "Prior probabilities of the classes. If specified the priors are not adjusted according to the data.\n",
        "\n",
        "**var_smoothing:** float, default=1e-9 \\\n",
        "Portion of the largest variance of all features that is added to variances for calculation stability.\n",
        "\n"
      ]
    },
    {
      "cell_type": "code",
      "execution_count": null,
      "metadata": {
        "colab": {
          "base_uri": "https://localhost:8080/"
        },
        "id": "h6dvhwlCKrKC",
        "outputId": "fe5d96b3-66ad-4540-a34c-4443eb4418a1"
      },
      "outputs": [
        {
          "output_type": "stream",
          "name": "stdout",
          "text": [
            "vs = 1.0\n",
            "Custom Loss (Training) = 3.2932322031102785\n",
            "Custom Loss (Validation) = 3.329622023519707\n",
            "vs = 0.1\n",
            "Custom Loss (Training) = 3.2929334727001343\n",
            "Custom Loss (Validation) = 3.340533090865986\n",
            "vs = 0.01\n",
            "Custom Loss (Training) = 3.2909695293967176\n",
            "Custom Loss (Validation) = 3.347406642185016\n",
            "vs = 0.001\n",
            "Custom Loss (Training) = 3.276277247128503\n",
            "Custom Loss (Validation) = 3.4454284551934444\n",
            "vs = 0.0001\n",
            "Custom Loss (Training) = 3.2683478201362215\n",
            "Custom Loss (Validation) = 3.9155602238241047\n",
            "vs = 1e-05\n",
            "Custom Loss (Training) = 3.2524982088472396\n",
            "Custom Loss (Validation) = 4.01634883797061\n",
            "vs = 1e-06\n",
            "Custom Loss (Training) = 3.228002889767618\n",
            "Custom Loss (Validation) = 4.011306723692208\n",
            "vs = 1e-07\n",
            "Custom Loss (Training) = 3.237693360562851\n",
            "Custom Loss (Validation) = 4.021463302089587\n",
            "vs = 1e-08\n",
            "Custom Loss (Training) = 3.2403093067164734\n",
            "Custom Loss (Validation) = 4.023757852428698\n",
            "vs = 1e-09\n",
            "Custom Loss (Training) = 3.240599960348991\n",
            "Custom Loss (Validation) = 4.024009082575971\n",
            "vs = 1e-10\n",
            "Custom Loss (Training) = 3.240629337093563\n",
            "Custom Loss (Validation) = 4.024034437540451\n",
            "vs = 1e-11\n",
            "Custom Loss (Training) = 3.240632277903976\n",
            "Custom Loss (Validation) = 4.0240369753713905\n",
            "vs = 1e-12\n",
            "Custom Loss (Training) = 3.2406325720163838\n",
            "Custom Loss (Validation) = 4.024037229177847\n"
          ]
        }
      ],
      "source": [
        "# Assuming X_train, y_train, X_valid, y_valid are already defined\n",
        "for vs in np.logspace(0, -12, num=13):\n",
        "    # Initialize Gaussian Naive Bayes\n",
        "    gnb = GaussianNB(var_smoothing=vs)\n",
        "    # Train the classifier\n",
        "    gnb.fit(X_train, y_train)\n",
        "\n",
        "    # Predict probabilities on training and validation data\n",
        "    y_pred_proba_train = gnb.predict_proba(X_train)\n",
        "    y_pred_proba_valid = gnb.predict_proba(X_valid)\n",
        "\n",
        "    # Calculate custom loss for training and validation sets\n",
        "    loss_train = custom_loss(y_train, y_pred_proba_train, quantiles )\n",
        "    loss_valid = custom_loss(y_valid, y_pred_proba_valid, quantiles )\n",
        "\n",
        "    print('vs = ' + str(vs))\n",
        "    print('Custom Loss (Training) = ' + str(loss_train))\n",
        "    print('Custom Loss (Validation) = ' + str(loss_valid))"
      ]
    },
    {
      "cell_type": "code",
      "source": [
        "# print the prior for classes:\n",
        "pd.DataFrame(gnb.class_prior_, index=gnb.classes_, columns=['Prior'])"
      ],
      "metadata": {
        "colab": {
          "base_uri": "https://localhost:8080/",
          "height": 362
        },
        "id": "LGXm1GccP6jv",
        "outputId": "fa61185e-c711-4f94-8eeb-096862905fb0"
      },
      "execution_count": null,
      "outputs": [
        {
          "output_type": "execute_result",
          "data": {
            "text/plain": [
              "      Prior\n",
              "0  0.100030\n",
              "1  0.100030\n",
              "2  0.099931\n",
              "3  0.100030\n",
              "4  0.116090\n",
              "5  0.083870\n",
              "6  0.100030\n",
              "7  0.099931\n",
              "8  0.100030\n",
              "9  0.100030"
            ],
            "text/html": [
              "\n",
              "  <div id=\"df-c9a0e2a5-c2a7-4394-9c18-545d63dfa99e\" class=\"colab-df-container\">\n",
              "    <div>\n",
              "<style scoped>\n",
              "    .dataframe tbody tr th:only-of-type {\n",
              "        vertical-align: middle;\n",
              "    }\n",
              "\n",
              "    .dataframe tbody tr th {\n",
              "        vertical-align: top;\n",
              "    }\n",
              "\n",
              "    .dataframe thead th {\n",
              "        text-align: right;\n",
              "    }\n",
              "</style>\n",
              "<table border=\"1\" class=\"dataframe\">\n",
              "  <thead>\n",
              "    <tr style=\"text-align: right;\">\n",
              "      <th></th>\n",
              "      <th>Prior</th>\n",
              "    </tr>\n",
              "  </thead>\n",
              "  <tbody>\n",
              "    <tr>\n",
              "      <th>0</th>\n",
              "      <td>0.100030</td>\n",
              "    </tr>\n",
              "    <tr>\n",
              "      <th>1</th>\n",
              "      <td>0.100030</td>\n",
              "    </tr>\n",
              "    <tr>\n",
              "      <th>2</th>\n",
              "      <td>0.099931</td>\n",
              "    </tr>\n",
              "    <tr>\n",
              "      <th>3</th>\n",
              "      <td>0.100030</td>\n",
              "    </tr>\n",
              "    <tr>\n",
              "      <th>4</th>\n",
              "      <td>0.116090</td>\n",
              "    </tr>\n",
              "    <tr>\n",
              "      <th>5</th>\n",
              "      <td>0.083870</td>\n",
              "    </tr>\n",
              "    <tr>\n",
              "      <th>6</th>\n",
              "      <td>0.100030</td>\n",
              "    </tr>\n",
              "    <tr>\n",
              "      <th>7</th>\n",
              "      <td>0.099931</td>\n",
              "    </tr>\n",
              "    <tr>\n",
              "      <th>8</th>\n",
              "      <td>0.100030</td>\n",
              "    </tr>\n",
              "    <tr>\n",
              "      <th>9</th>\n",
              "      <td>0.100030</td>\n",
              "    </tr>\n",
              "  </tbody>\n",
              "</table>\n",
              "</div>\n",
              "    <div class=\"colab-df-buttons\">\n",
              "\n",
              "  <div class=\"colab-df-container\">\n",
              "    <button class=\"colab-df-convert\" onclick=\"convertToInteractive('df-c9a0e2a5-c2a7-4394-9c18-545d63dfa99e')\"\n",
              "            title=\"Convert this dataframe to an interactive table.\"\n",
              "            style=\"display:none;\">\n",
              "\n",
              "  <svg xmlns=\"http://www.w3.org/2000/svg\" height=\"24px\" viewBox=\"0 -960 960 960\">\n",
              "    <path d=\"M120-120v-720h720v720H120Zm60-500h600v-160H180v160Zm220 220h160v-160H400v160Zm0 220h160v-160H400v160ZM180-400h160v-160H180v160Zm440 0h160v-160H620v160ZM180-180h160v-160H180v160Zm440 0h160v-160H620v160Z\"/>\n",
              "  </svg>\n",
              "    </button>\n",
              "\n",
              "  <style>\n",
              "    .colab-df-container {\n",
              "      display:flex;\n",
              "      gap: 12px;\n",
              "    }\n",
              "\n",
              "    .colab-df-convert {\n",
              "      background-color: #E8F0FE;\n",
              "      border: none;\n",
              "      border-radius: 50%;\n",
              "      cursor: pointer;\n",
              "      display: none;\n",
              "      fill: #1967D2;\n",
              "      height: 32px;\n",
              "      padding: 0 0 0 0;\n",
              "      width: 32px;\n",
              "    }\n",
              "\n",
              "    .colab-df-convert:hover {\n",
              "      background-color: #E2EBFA;\n",
              "      box-shadow: 0px 1px 2px rgba(60, 64, 67, 0.3), 0px 1px 3px 1px rgba(60, 64, 67, 0.15);\n",
              "      fill: #174EA6;\n",
              "    }\n",
              "\n",
              "    .colab-df-buttons div {\n",
              "      margin-bottom: 4px;\n",
              "    }\n",
              "\n",
              "    [theme=dark] .colab-df-convert {\n",
              "      background-color: #3B4455;\n",
              "      fill: #D2E3FC;\n",
              "    }\n",
              "\n",
              "    [theme=dark] .colab-df-convert:hover {\n",
              "      background-color: #434B5C;\n",
              "      box-shadow: 0px 1px 3px 1px rgba(0, 0, 0, 0.15);\n",
              "      filter: drop-shadow(0px 1px 2px rgba(0, 0, 0, 0.3));\n",
              "      fill: #FFFFFF;\n",
              "    }\n",
              "  </style>\n",
              "\n",
              "    <script>\n",
              "      const buttonEl =\n",
              "        document.querySelector('#df-c9a0e2a5-c2a7-4394-9c18-545d63dfa99e button.colab-df-convert');\n",
              "      buttonEl.style.display =\n",
              "        google.colab.kernel.accessAllowed ? 'block' : 'none';\n",
              "\n",
              "      async function convertToInteractive(key) {\n",
              "        const element = document.querySelector('#df-c9a0e2a5-c2a7-4394-9c18-545d63dfa99e');\n",
              "        const dataTable =\n",
              "          await google.colab.kernel.invokeFunction('convertToInteractive',\n",
              "                                                    [key], {});\n",
              "        if (!dataTable) return;\n",
              "\n",
              "        const docLinkHtml = 'Like what you see? Visit the ' +\n",
              "          '<a target=\"_blank\" href=https://colab.research.google.com/notebooks/data_table.ipynb>data table notebook</a>'\n",
              "          + ' to learn more about interactive tables.';\n",
              "        element.innerHTML = '';\n",
              "        dataTable['output_type'] = 'display_data';\n",
              "        await google.colab.output.renderOutput(dataTable, element);\n",
              "        const docLink = document.createElement('div');\n",
              "        docLink.innerHTML = docLinkHtml;\n",
              "        element.appendChild(docLink);\n",
              "      }\n",
              "    </script>\n",
              "  </div>\n",
              "\n",
              "\n",
              "<div id=\"df-9c8593ec-1d04-4f86-acac-1af2b71d9920\">\n",
              "  <button class=\"colab-df-quickchart\" onclick=\"quickchart('df-9c8593ec-1d04-4f86-acac-1af2b71d9920')\"\n",
              "            title=\"Suggest charts\"\n",
              "            style=\"display:none;\">\n",
              "\n",
              "<svg xmlns=\"http://www.w3.org/2000/svg\" height=\"24px\"viewBox=\"0 0 24 24\"\n",
              "     width=\"24px\">\n",
              "    <g>\n",
              "        <path d=\"M19 3H5c-1.1 0-2 .9-2 2v14c0 1.1.9 2 2 2h14c1.1 0 2-.9 2-2V5c0-1.1-.9-2-2-2zM9 17H7v-7h2v7zm4 0h-2V7h2v10zm4 0h-2v-4h2v4z\"/>\n",
              "    </g>\n",
              "</svg>\n",
              "  </button>\n",
              "\n",
              "<style>\n",
              "  .colab-df-quickchart {\n",
              "      --bg-color: #E8F0FE;\n",
              "      --fill-color: #1967D2;\n",
              "      --hover-bg-color: #E2EBFA;\n",
              "      --hover-fill-color: #174EA6;\n",
              "      --disabled-fill-color: #AAA;\n",
              "      --disabled-bg-color: #DDD;\n",
              "  }\n",
              "\n",
              "  [theme=dark] .colab-df-quickchart {\n",
              "      --bg-color: #3B4455;\n",
              "      --fill-color: #D2E3FC;\n",
              "      --hover-bg-color: #434B5C;\n",
              "      --hover-fill-color: #FFFFFF;\n",
              "      --disabled-bg-color: #3B4455;\n",
              "      --disabled-fill-color: #666;\n",
              "  }\n",
              "\n",
              "  .colab-df-quickchart {\n",
              "    background-color: var(--bg-color);\n",
              "    border: none;\n",
              "    border-radius: 50%;\n",
              "    cursor: pointer;\n",
              "    display: none;\n",
              "    fill: var(--fill-color);\n",
              "    height: 32px;\n",
              "    padding: 0;\n",
              "    width: 32px;\n",
              "  }\n",
              "\n",
              "  .colab-df-quickchart:hover {\n",
              "    background-color: var(--hover-bg-color);\n",
              "    box-shadow: 0 1px 2px rgba(60, 64, 67, 0.3), 0 1px 3px 1px rgba(60, 64, 67, 0.15);\n",
              "    fill: var(--button-hover-fill-color);\n",
              "  }\n",
              "\n",
              "  .colab-df-quickchart-complete:disabled,\n",
              "  .colab-df-quickchart-complete:disabled:hover {\n",
              "    background-color: var(--disabled-bg-color);\n",
              "    fill: var(--disabled-fill-color);\n",
              "    box-shadow: none;\n",
              "  }\n",
              "\n",
              "  .colab-df-spinner {\n",
              "    border: 2px solid var(--fill-color);\n",
              "    border-color: transparent;\n",
              "    border-bottom-color: var(--fill-color);\n",
              "    animation:\n",
              "      spin 1s steps(1) infinite;\n",
              "  }\n",
              "\n",
              "  @keyframes spin {\n",
              "    0% {\n",
              "      border-color: transparent;\n",
              "      border-bottom-color: var(--fill-color);\n",
              "      border-left-color: var(--fill-color);\n",
              "    }\n",
              "    20% {\n",
              "      border-color: transparent;\n",
              "      border-left-color: var(--fill-color);\n",
              "      border-top-color: var(--fill-color);\n",
              "    }\n",
              "    30% {\n",
              "      border-color: transparent;\n",
              "      border-left-color: var(--fill-color);\n",
              "      border-top-color: var(--fill-color);\n",
              "      border-right-color: var(--fill-color);\n",
              "    }\n",
              "    40% {\n",
              "      border-color: transparent;\n",
              "      border-right-color: var(--fill-color);\n",
              "      border-top-color: var(--fill-color);\n",
              "    }\n",
              "    60% {\n",
              "      border-color: transparent;\n",
              "      border-right-color: var(--fill-color);\n",
              "    }\n",
              "    80% {\n",
              "      border-color: transparent;\n",
              "      border-right-color: var(--fill-color);\n",
              "      border-bottom-color: var(--fill-color);\n",
              "    }\n",
              "    90% {\n",
              "      border-color: transparent;\n",
              "      border-bottom-color: var(--fill-color);\n",
              "    }\n",
              "  }\n",
              "</style>\n",
              "\n",
              "  <script>\n",
              "    async function quickchart(key) {\n",
              "      const quickchartButtonEl =\n",
              "        document.querySelector('#' + key + ' button');\n",
              "      quickchartButtonEl.disabled = true;  // To prevent multiple clicks.\n",
              "      quickchartButtonEl.classList.add('colab-df-spinner');\n",
              "      try {\n",
              "        const charts = await google.colab.kernel.invokeFunction(\n",
              "            'suggestCharts', [key], {});\n",
              "      } catch (error) {\n",
              "        console.error('Error during call to suggestCharts:', error);\n",
              "      }\n",
              "      quickchartButtonEl.classList.remove('colab-df-spinner');\n",
              "      quickchartButtonEl.classList.add('colab-df-quickchart-complete');\n",
              "    }\n",
              "    (() => {\n",
              "      let quickchartButtonEl =\n",
              "        document.querySelector('#df-9c8593ec-1d04-4f86-acac-1af2b71d9920 button');\n",
              "      quickchartButtonEl.style.display =\n",
              "        google.colab.kernel.accessAllowed ? 'block' : 'none';\n",
              "    })();\n",
              "  </script>\n",
              "</div>\n",
              "\n",
              "    </div>\n",
              "  </div>\n"
            ],
            "application/vnd.google.colaboratory.intrinsic+json": {
              "type": "dataframe",
              "summary": "{\n  \"name\": \"pd\",\n  \"rows\": 10,\n  \"fields\": [\n    {\n      \"column\": \"Prior\",\n      \"properties\": {\n        \"dtype\": \"number\",\n        \"std\": 0.007594368494112521,\n        \"min\": 0.0838703281451373,\n        \"max\": 0.11609001685337564,\n        \"num_unique_values\": 4,\n        \"samples\": [\n          0.09993060374739764,\n          0.0838703281451373,\n          0.1000297412511153\n        ],\n        \"semantic_type\": \"\",\n        \"description\": \"\"\n      }\n    }\n  ]\n}"
            }
          },
          "metadata": {},
          "execution_count": 11
        }
      ]
    },
    {
      "cell_type": "code",
      "source": [
        "#Predicting the probability of each class\n",
        "gnb = GaussianNB(var_smoothing = 0.01)# we choose 0.01 because it got the best validation performance\n",
        "gnb.fit(X_train_valid, y_train_valid)\n",
        "y_pred = gnb.predict(X_test)\n",
        "\n",
        "print (gnb.predict_proba(X_test))"
      ],
      "metadata": {
        "colab": {
          "base_uri": "https://localhost:8080/"
        },
        "id": "u3dAnK7FL9ju",
        "outputId": "f8203655-caa6-429d-9c4d-b719c6030910"
      },
      "execution_count": null,
      "outputs": [
        {
          "output_type": "stream",
          "name": "stdout",
          "text": [
            "[[0.09824072 0.10222692 0.09794135 ... 0.10614313 0.09590007 0.0968529 ]\n",
            " [0.10539192 0.09800141 0.09940563 ... 0.10270393 0.10200856 0.10914623]\n",
            " [0.10875905 0.09595327 0.10047349 ... 0.10079714 0.10438451 0.11453249]\n",
            " ...\n",
            " [0.1094517  0.0927042  0.10529225 ... 0.09649877 0.10955619 0.12109346]\n",
            " [0.10008538 0.09724779 0.10469472 ... 0.10091109 0.10503142 0.10891925]\n",
            " [0.0945261  0.10003313 0.10437232 ... 0.10273601 0.10224964 0.10161667]]\n"
          ]
        }
      ]
    },
    {
      "cell_type": "code",
      "source": [
        "# Calculate the loss on testing data\n",
        "custom_loss(y_test, gnb.predict_proba(X_test), quantiles)"
      ],
      "metadata": {
        "colab": {
          "base_uri": "https://localhost:8080/"
        },
        "id": "qKRGuvCVTgE4",
        "outputId": "66fb8cae-4ac0-4e8f-ea16-de4bce99c248"
      },
      "execution_count": null,
      "outputs": [
        {
          "output_type": "execute_result",
          "data": {
            "text/plain": [
              "3.2845111121037767"
            ]
          },
          "metadata": {},
          "execution_count": 13
        }
      ]
    },
    {
      "cell_type": "markdown",
      "source": [
        "Note: In this study, I use only technical indicators as input to demonstrate that the model can effectively learn and extract information, even with imbalanced labels. This is evidenced by the fluctuating probabilities for each class and the variations in validation loss across different hyperparameter settings.\n",
        "\n",
        "By incorporating more meaningful inputs such as macroeconomic indicators, microeconomic factors, company characteristics, text sentiment analysis, and behavioral data, the model's performance can be significantly enhanced."
      ],
      "metadata": {
        "id": "5J9dWdUQ1C6f"
      }
    },
    {
      "cell_type": "markdown",
      "metadata": {
        "id": "qRkqApj9KrKD"
      },
      "source": [
        "# GridSearchCV with Random Forest"
      ]
    },
    {
      "cell_type": "markdown",
      "source": [
        "Note: The RandomForestClassifier only supports Gini Impurity, Entropy, and Log Loss as criteria and does not support custom criteria. Therefore, we cannot incorporate the ordinal relationship into the splitting criteria. Our custom loss can only be applied to measure the performance."
      ],
      "metadata": {
        "id": "hAsTrIzFq7Q0"
      }
    },
    {
      "cell_type": "markdown",
      "metadata": {
        "id": "ZpqNpt6IKrKD"
      },
      "source": [
        "RandomForestClassifier doc:\n",
        "https://scikit-learn.org/stable/modules/generated/sklearn.ensemble.RandomForestClassifier.html\n",
        "\n"
      ]
    },
    {
      "cell_type": "code",
      "execution_count": null,
      "metadata": {
        "colab": {
          "base_uri": "https://localhost:8080/"
        },
        "id": "mH0EvtGdKrKE",
        "outputId": "79e79441-5a1f-4782-a271-53da88e79ee9"
      },
      "outputs": [
        {
          "output_type": "stream",
          "name": "stdout",
          "text": [
            "Fitting 3 folds for each of 50 candidates, totalling 150 fits\n",
            "{'n_estimators': 10, 'min_samples_split': 25, 'min_samples_leaf': 20, 'max_features': 'sqrt', 'max_depth': 20, 'bootstrap': True}\n",
            "Train_Valid custom loss = 3.1194668720472385\n",
            "Test custom loss = 3.404193646019533\n"
          ]
        }
      ],
      "source": [
        "from sklearn.model_selection import RandomizedSearchCV\n",
        "from sklearn.ensemble import RandomForestClassifier\n",
        "from sklearn.metrics import accuracy_score\n",
        "from sklearn.metrics import make_scorer\n",
        "\n",
        "# Create custom scoring function\n",
        "def custom_scorer(y_true, y_pred_proba):\n",
        "    num_classes = len(np.unique(y_true))\n",
        "    return custom_loss(y_true, y_pred_proba, num_classes)\n",
        "\n",
        "# Wrap the custom scorer using make_scorer\n",
        "scorer = make_scorer(custom_scorer, needs_proba=True, greater_is_better=False)\n",
        "\n",
        "# Define refined parameter dist\n",
        "param_dist = {\n",
        "    'n_estimators': [10, 20, 30],  # Number of trees in random forest\n",
        "    'max_features': ['sqrt', 'log2'],  # Number of features to consider at every split\n",
        "    'max_depth': [5, 10, 20],  # Maximum number of levels in tree\n",
        "    'min_samples_split': [5, 10, 25],  # Minimum number of samples required to split a node\n",
        "    'min_samples_leaf': [5, 10, 20],  # Minimum number of samples required at each leaf node\n",
        "    'bootstrap': [True, False]  # Whether bootstrap samples are used when building trees\n",
        "}\n",
        "\n",
        "# Initialize RandomizedSearchCV with the custom scorer\n",
        "rf = RandomForestClassifier()\n",
        "clf = RandomizedSearchCV(rf, param_dist, n_iter=50, cv=3, scoring=scorer, n_jobs=-1, random_state=42, verbose=2)\n",
        "\n",
        "# Fit the classifier to the training data\n",
        "clf.fit(X_train_valid, y_train_valid)\n",
        "\n",
        "# Get optimal parameters\n",
        "print(clf.best_params_)\n",
        "\n",
        "# Predict probabilities using the test set\n",
        "y_pred_proba_test = clf.predict_proba(X_test)\n",
        "y_pred_proba_train_valid = clf.predict_proba(X_train_valid)\n",
        "\n",
        "# Calculate custom loss\n",
        "num_classes = len(np.unique(y_train_valid))\n",
        "test_loss = custom_loss(y_test, y_pred_proba_test, num_classes)\n",
        "train_valid_loss = custom_loss(y_train_valid, y_pred_proba_train_valid , num_classes)\n",
        "\n",
        "print('Train_Valid custom loss = ' + str(train_valid_loss))\n",
        "print('Test custom loss = ' + str(test_loss))"
      ]
    },
    {
      "cell_type": "code",
      "source": [
        "y_pred_proba_test"
      ],
      "metadata": {
        "colab": {
          "base_uri": "https://localhost:8080/"
        },
        "id": "KXNkxPhPwK-7",
        "outputId": "ab5fc48c-8f5f-4931-f642-b85642e73f8a"
      },
      "execution_count": null,
      "outputs": [
        {
          "output_type": "execute_result",
          "data": {
            "text/plain": [
              "array([[0.12482348, 0.07754984, 0.10764849, ..., 0.11320992, 0.10661581,\n",
              "        0.0892224 ],\n",
              "       [0.14913044, 0.10958457, 0.10807601, ..., 0.07992078, 0.12453649,\n",
              "        0.09250517],\n",
              "       [0.09884315, 0.12067661, 0.09182381, ..., 0.07990958, 0.15068746,\n",
              "        0.10501566],\n",
              "       ...,\n",
              "       [0.13072927, 0.07620397, 0.04691623, ..., 0.12032076, 0.17562662,\n",
              "        0.10354213],\n",
              "       [0.15597213, 0.04613602, 0.04127524, ..., 0.15909731, 0.12931347,\n",
              "        0.11667815],\n",
              "       [0.16324486, 0.04552996, 0.04430554, ..., 0.15182458, 0.10734377,\n",
              "        0.10501149]])"
            ]
          },
          "metadata": {},
          "execution_count": 15
        }
      ]
    },
    {
      "cell_type": "markdown",
      "source": [
        "Based on our analysis, it is evident that the Random Forest Classifier from scikit-learn does not adequately meet our requirements. To achieve better performance, we should consider utilizing advanced models such as XGBoost and Neural Networks, which are capable of handling ordinal variables more effectively. These models provide enhanced criteria for dealing with ordinal data, thereby offering a more robust solution to our problem."
      ],
      "metadata": {
        "id": "ryC2zZTVvl24"
      }
    }
  ],
  "metadata": {
    "anaconda-cloud": {},
    "celltoolbar": "Slideshow",
    "kernelspec": {
      "display_name": "Python 3",
      "language": "python",
      "name": "python3"
    },
    "language_info": {
      "codemirror_mode": {
        "name": "ipython",
        "version": 3
      },
      "file_extension": ".py",
      "mimetype": "text/x-python",
      "name": "python",
      "nbconvert_exporter": "python",
      "pygments_lexer": "ipython3",
      "version": "3.8.3"
    },
    "colab": {
      "provenance": []
    }
  },
  "nbformat": 4,
  "nbformat_minor": 0
}